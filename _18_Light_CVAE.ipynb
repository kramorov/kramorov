{
  "nbformat": 4,
  "nbformat_minor": 0,
  "metadata": {
    "colab": {
      "name": "# 18 Light CVAE",
      "provenance": [],
      "collapsed_sections": [],
      "include_colab_link": true
    },
    "kernelspec": {
      "display_name": "Python 3",
      "name": "python3"
    }
  },
  "cells": [
    {
      "cell_type": "markdown",
      "metadata": {
        "id": "view-in-github",
        "colab_type": "text"
      },
      "source": [
        "<a href=\"https://colab.research.google.com/github/kramorov/kramorov/blob/main/_18_Light_CVAE.ipynb\" target=\"_parent\"><img src=\"https://colab.research.google.com/assets/colab-badge.svg\" alt=\"Open In Colab\"/></a>"
      ]
    },
    {
      "cell_type": "markdown",
      "metadata": {
        "id": "6dyjBcvYgxxL"
      },
      "source": [
        "# Задание Lite\n",
        "\n",
        "Используйте готовый ноутбук с занятия.\n",
        "\n",
        "* Сделайте более мощный CVAE, обучите больше эпох до более низкого уровня ошибки и сравните изображения, которые получаются в итоге. Коррелирует ли уровень ошибки с качеством изображений?\n",
        "* Подайте 5 раз в decoder CVAE один и тот же случайный вектор и любой label от 0 до 9 на выбор. Посмотрите, что сгенерирует CVAE.\n",
        "* Пояснение: Автокодировщики работают следующим образом: сначала, энкодер кодирует данные в n-мерное пространство (выход энкодера), и кодированные данные подаются на вход декодера, чтобы сгенерить новую картинку.\n",
        "\n",
        "Для выполнение данного пункта, нужно провести следующий эксперимент:\n",
        "\n",
        "1. Обучите автокодировщик\n",
        "\n",
        "2. Разбейте его на 2 отдельные модели: энкодер и декодер. Далее понадобится только декодер\n",
        "\n",
        "3. На вход декодера подайте 5 векторов из рандомных чисел и выведите на экран получившиеся изображения"
      ]
    },
    {
      "cell_type": "code",
      "metadata": {
        "id": "LoVdzsxTgbcU"
      },
      "source": [
        "import sys # модуль содержит параметры и функции, которые относятся к Python и его среде\n",
        "import numpy as np # загружаем библиотеку для работы с массивами данных\n",
        "import matplotlib.pyplot as plt # из библиотеки для визуализации данных возьмём интерфейс для построения графиков простых функций\n",
        "import seaborn as sns # более высокоуровневое API на базе библиотеки matplotlib\n",
        "from scipy.stats import norm # модуль с нормальными непрерывными случайными величинами\n",
        "#from keras.datasets import fashion_mnist # загружаем готовую базу mnist(fashion- с одеждой, обувью и т.п)\n",
        "\n",
        "from tensorflow.keras.datasets import mnist # загружаем готовую стандартную базу рукописных цифр mnist\n",
        "from tensorflow.keras.optimizers import Adam, RMSprop # загружаем выбранные оптимизаторы\n",
        "from tensorflow.keras.layers import Input, Dense, LeakyReLU, Layer, concatenate  \n",
        "from tensorflow.keras.layers import BatchNormalization, Dropout, Flatten, Reshape, Lambda, Conv2DTranspose, Conv2D, MaxPool2D\n",
        "from tensorflow.keras.models import Model # загружаем абстрактный класс базовой модели сети от кераса\n",
        "from tensorflow.keras.losses import binary_crossentropy # импортируем функцию потерь\n",
        "from tensorflow.keras.utils import to_categorical\n",
        "\n",
        "\n",
        "from tensorflow.keras import backend as K \n",
        "from tensorflow.keras import metrics as K_metrics\n",
        "from tensorflow import GradientTape\n",
        "from tensorflow import math as tf_math\n",
        "\n",
        "from tensorflow.keras.callbacks import LambdaCallback, ReduceLROnPlateau, TensorBoard # импортируем коллбэки\n"
      ],
      "execution_count": 69,
      "outputs": []
    },
    {
      "cell_type": "code",
      "metadata": {
        "colab": {
          "base_uri": "https://localhost:8080/"
        },
        "id": "QwUAGIumRZzu",
        "outputId": "2d5205fe-e8d9-4062-a1be-1e8bf7e0b5f8"
      },
      "source": [
        "from google.colab import drive #модуль для работы с google диском\n",
        "drive.mount('/content/drive/') # монтируем google диск"
      ],
      "execution_count": 70,
      "outputs": [
        {
          "output_type": "stream",
          "text": [
            "Drive already mounted at /content/drive/; to attempt to forcibly remount, call drive.mount(\"/content/drive/\", force_remount=True).\n"
          ],
          "name": "stdout"
        }
      ]
    },
    {
      "cell_type": "code",
      "metadata": {
        "id": "DzYrodO2AFMl"
      },
      "source": [
        "def plotImages(xTrain, pred, title='', shape=(112, 80)): # создадим функцию для вывода изображений как картинок\n",
        "  n = 5  # количество картинок, которые хотим показать\n",
        "  plt.figure(figsize=(14, 7)) # указываем размеры фигуры\n",
        "  \n",
        "  for i in range(n): # для каждой картинки из n(5)\n",
        "      index = np.random.randint(0, pred.shape[0]) # startIndex - начиная с какого индекса хотим заплотить картинки\n",
        "      # Показываем картинки из тестового набора\n",
        "      ax = plt.subplot(2, n, i + 1) # выведем область рисования Axes\n",
        "      plt.imshow(xTrain[index].reshape(shape)) # отрисуем правильные картинки в размере 112*80      \n",
        "      plt.gray() # выведем в черно-белом цвете\n",
        "      ax.get_xaxis().set_visible(False) # скрываем вывод координатной оси x\n",
        "      ax.get_yaxis().set_visible(False) # скрываем вывод координатной оси y\n",
        "\n",
        "      # Показываем восстановленные картинки\n",
        "      ax = plt.subplot(2, n, i + 1 + n) # выведем область рисования Axes \n",
        "      plt.imshow(pred[index].reshape(shape)) # отрисуем обработанные сеткой картинки в размере 112*80     \n",
        "      plt.gray() # выведем в черно-белом цвете\n",
        "      ax.get_xaxis().set_visible(False) # скрываем вывод координатной оси x\n",
        "      ax.get_yaxis().set_visible(False) # скрываем вывод координатной оси y\n",
        "  plt.suptitle(title, y=0.93)\n",
        "  plt.show()"
      ],
      "execution_count": 92,
      "outputs": []
    },
    {
      "cell_type": "markdown",
      "metadata": {
        "id": "HlZwVlSc9AOp"
      },
      "source": [
        "# Вариационный автокодировщик с условием (CVAE)\n",
        "Модель собрана на основе ООП TensorFlow.<br>\n",
        "Основное отличие от VAE это два входных потока данных: первый - изображения, второй - метки изображений.\n",
        "\n",
        "При инициализации, на вход модели подаются:<br>\n",
        "* **input_shape** - размерность входного тензора (для MNIST цифры - (28, 28,1)\n",
        "* **latent_layer_dim** - размерность латентного слоя\n",
        "* **reconstruction_loss_weight** - доля reconstruction_loss в общем loss **(должна быть в диапазоне от 0 до 1)**. При расчете функции потерь, мы используем 2 веса - один для reconstruction_loss, второй для kl_loss. В сумме они равны 1. Вес для kl_loss рассчитывается при инициализации класса модели.\n",
        "\n",
        "Для вычисления loss и обновления градиента используется собственная функция.\n",
        "Поскольку оценка ошибки осуществляется на основании собственной функции, **при вызове метода fit передавать x_test не нужно**.\n",
        "\n",
        "При использовании классов Model, Layer в качестве родителей для самописных классов, TensorFlow требует, чтобы в коде самописного класса была определен метод класса **call** для выполнения кода класса"
      ]
    },
    {
      "cell_type": "code",
      "metadata": {
        "id": "8_LTC3G1efpx"
      },
      "source": [
        "class MyCvae(Model):\n",
        "  class MyEpsilon(Layer):\n",
        "    def call (self, z_mean, z_log_var, latent_dim):# При использовании класса Layer в качестве родителей для самописных классов, \n",
        "                        # TensorFlow требует, чтобы в коде самописного класса была определен метод класса **call** \n",
        "                        # для выполнения кода класса\n",
        "      epsilon = K.random_normal(shape=(K.shape(z_mean)[0], latent_dim),mean=0., stddev=1.)\n",
        "      return z_mean + K.exp(z_log_var) * epsilon\n",
        "  def __init__(self, input_shape, latent_layer_dim, num_classes, reconstruction_loss_weight, **kwargs):\n",
        "    super().__init__(**kwargs)\n",
        "    self.shape_before_flatten = 0\n",
        "    self.shape_after_flatten = 0 \n",
        "    self.latent_dim=latent_layer_dim\n",
        "    self.num_classes = num_classes\n",
        "    self.encoder = self.get_encoder(input_shape, latent_layer_dim, num_classes)\n",
        "    self.decoder = self.get_decoder(latent_layer_dim, num_classes)\n",
        "\n",
        "    self.add_epsilon = self.MyEpsilon()\n",
        "    self.total_loss_tracker = K_metrics.Mean(name=\"total_loss\")  # Здесь обьявляем тип внутренней переменной. Метрики имеют состояния, нужен инстанс класса\n",
        "    self.reconstruction_loss_tracker = K_metrics.Mean(name=\"reconstruction_loss\") # Здесь обьявляем тип внутренней переменной\n",
        "    self.kl_loss_tracker = K_metrics.Mean(name=\"kl_loss\") # Здесь обьявляем тип внутренней переменной\n",
        "    self.reconstruction_loss_weight=reconstruction_loss_weight  \n",
        "    self.kl_loss_weight= 1- self.reconstruction_loss_weight\n",
        "\n",
        "  def call(self, input_params_list): # При использовании класса Model в качестве родителей для самописных классов, \n",
        "                      # TensorFlow требует, чтобы в коде самописного класса была определен метод класса **call** \n",
        "                      # для выполнения кода класса\n",
        "    data, class_vector = input_params_list\n",
        "    encoded_data = self.encoder(input_params_list)\n",
        "    decoded_data = self.decoder([encoded_data[0],class_vector]) \n",
        "    return decoded_data      \n",
        "\n",
        "  def get_encoder(self, input_shape, latent_layer_dim, num_classes):\n",
        "    input_encode=Input(shape=input_shape) # Если на входе 28, 28,1 то выход далее 28, 28,1\n",
        "    input_labels_encode = Input(shape=(num_classes,), dtype='float32') # второй вход в энкодер по количеству классов\n",
        "\n",
        "    x_encode = Conv2D(32, 3, padding='same', activation='relu')(input_encode) # output shape = 28, 28, 32\n",
        "    #x_encode = MaxPool2D(2, name='MP_1')(x_encode)\n",
        "    x_encode = Conv2D(64, 3, strides=(2,2), padding='same', activation='relu')(x_encode) # Генерализуем изображение output shape = 14, 14, 64 (strides=(2,2))\n",
        "    #x_not_flatten = MaxPool2D(2, name='MP_2')(x_encode)\n",
        "    x_encode = Conv2D(64, 3, padding='same', activation='relu')(x_encode)\n",
        "    x_not_flatten = Conv2D(64, 3, padding='same', activation='relu')(x_encode)\n",
        "    #x_not_flatten = MaxPool2D(2)(x_not_flatten)\n",
        "    self.shape_before_flatten = K.int_shape(x_not_flatten) # х.з что сюда приедет при других входных размерностях\n",
        "    x_encode_flatten=Flatten()(x_not_flatten) # output shape = 14*14*64 = 12544\n",
        "\n",
        "    x_encode_concatinated = concatenate([x_encode_flatten, input_labels_encode]) # конкатенируем входы \n",
        "    \n",
        "    x_encode_concatinated = Dense(256, activation='relu')(x_encode_concatinated) # полносвязный слой на 256 нейронов\n",
        "\n",
        "    self.shape_after_flatten = K.int_shape(x_encode_flatten)\n",
        "\n",
        "    x_encode_concatinated=Dense(32, activation='relu')(x_encode_concatinated) # output shape = 32\n",
        "    z_mean = Dense(latent_layer_dim, name='z_mean')(x_encode_concatinated) # shape = 2 = latent_layer_dim\n",
        "    z_log_var = Dense(latent_layer_dim, name='z_log_var')(x_encode_concatinated)  #  shape = 2 = latent_layer_dim\n",
        "    encoder=Model([input_encode,input_labels_encode], [z_mean, z_log_var], name = 'encoder')\n",
        "\n",
        "    return encoder\n",
        "\n",
        "  def get_decoder(self, latent_layer_dim, num_classes):\n",
        "    shape_without_batch=self.shape_before_flatten[1:] # Убираем первое None (batch) в \n",
        "    first_dense_dim=np.prod(shape_without_batch) # Размерность после Flatten в энкодере\n",
        "    \n",
        "    latent_inputs =Input(shape=(latent_layer_dim,), name='Inp_latent')\n",
        "    input_labels_decode = Input(shape=(num_classes,), dtype='float32', name='Inp_labels') # задаем вторую входную размерность по номеру классов\n",
        "    \n",
        "    merged_input = concatenate([latent_inputs, input_labels_decode]) # конкатенируем входы\n",
        "\n",
        "    x_decode=Dense(32, activation='relu')(merged_input) # output shape = 32\n",
        "    x_decode=Dense(128, activation='relu')(x_decode) # output shape = 32\n",
        "    #x_decode=Dense(self.shape_after_flatten[1:], activation='relu')(x_decode)\n",
        "    #x_decode=Dense(self.shape_after_flatten[1], activation='relu')(x_decode) # 3136\n",
        "    x_decode=Dense(first_dense_dim, activation='relu')(x_decode)\n",
        "    x_decode_not_flatten=Reshape(shape_without_batch)(x_decode) # Возвращаем размерность как до Flatten, для дальнейшей обработки (7,7,64)\n",
        "    #x_decode_not_flatten = Conv2DTranspose(64, 3, strides=(2,2), padding='same', activation='relu')(x_decode_not_flatten) # Делаем обратое преобразование к тому, что мы вытворяли в энкодере\n",
        "    x_decode_not_flatten = Conv2DTranspose(32, 3, strides=(2,2),padding='same', activation='relu')(x_decode_not_flatten) # Делаем обратое преобразование к тому, что мы вытворяли в энкодере\n",
        "    #x_decode_not_flatten = Conv2DTranspose(32, (3,3), padding='same', activation='relu')(x_decode_not_flatten) # Делаем обратое преобразование к тому, что мы вытворяли в энкодере\n",
        "    output_decode =Conv2D(1, 3, padding='same', activation='sigmoid')(x_decode_not_flatten)\n",
        "    decoder=Model([latent_inputs, input_labels_decode], output_decode, name='decoder')\n",
        "    #decoder=Model(decoder_params_list, output_decode, name='decoder')\n",
        "    return decoder  \n",
        "  @property  # Фактически getter\n",
        "  def metrics(self):\n",
        "      return [self.total_loss_tracker,\n",
        "              self.reconstruction_loss_tracker,\n",
        "              self.kl_loss_tracker]\n",
        "\n",
        "  def train_step(self, data):\n",
        "      data1, class_vector =data[0] # Распаковывае данные по изображению и \n",
        "       #= data[1] # В метод FIT в качестве параметра Y мы передаем вектор класса, чтобы можно было его здесь достать и передать в декодер\n",
        "      #print('Train step ',data1.shape, class_vector.shape)\n",
        "      #print(len(data[0]), data[0].shape)\n",
        "      #print(len(data[1]), data[1].shape)\n",
        "      #print(type(data))\n",
        "      #print(*data)\n",
        "      with GradientTape() as tape: \n",
        "          z_mean, z_log_var = self.encoder([data1, class_vector])\n",
        "          new_z_with_epsilon = self.add_epsilon(z_mean, z_log_var,self.latent_dim)\n",
        "          reconstruction = self.decoder([new_z_with_epsilon, class_vector]) # Прогоняем через декодер значение с добавленной эпсилон (смещение по стандартному нормальному распределению)\n",
        "          # Оцениваем потери восстановленного декодером значения (с эпсилон)\n",
        "          reconstruction_loss = tf_math.reduce_mean( # Аналог np.mean. Рассчитывает среднее по элементам тензора в аргументе, возвращает свернутый по указанным осям тензор\n",
        "                                                #   Поскольку оси мы не указываем, возвращает одномерный тензор\n",
        "               tf_math.reduce_sum( binary_crossentropy(data1, reconstruction),axis=(1, 2) )  # Аналог np.sum. \n",
        "                              # Рассчитывает сумму по элементам тензора в аргументе, возвращает свернутый по указанным осям тензор\n",
        "                              # Мы указали оси 1,2 возвращает одномерный тензор по каждому элементу батча\n",
        "              )\n",
        "          kl_loss = -0.5 * (1 + z_log_var -  tf_math.square(z_mean) -  tf_math.exp(z_log_var))\n",
        "          total_loss = self.reconstruction_loss_weight*reconstruction_loss +  self.kl_loss_weight*tf_math.reduce_mean(kl_loss)  # Подсчитали свой собственный loss\n",
        "      grads = tape.gradient(total_loss, self.trainable_weights) # Считаем новые градиенты для весов по собственному loss\n",
        "      self.optimizer.apply_gradients(zip(grads, self.trainable_weights)) # И прописываем их в модель\n",
        "      self.total_loss_tracker.update_state(total_loss) # Обновляем свои переменные\n",
        "      self.reconstruction_loss_tracker.update_state(reconstruction_loss)\n",
        "      self.kl_loss_tracker.update_state(kl_loss)\n",
        "      return {\n",
        "          \"total_loss\": self.total_loss_tracker.result(),\n",
        "          \"reconstruction_loss\": self.reconstruction_loss_tracker.result(),\n",
        "          \"kl_loss\": self.kl_loss_tracker.result(),\n",
        "      }\n",
        "  "
      ],
      "execution_count": 72,
      "outputs": []
    },
    {
      "cell_type": "code",
      "metadata": {
        "id": "vBNmVaCkhzJL"
      },
      "source": [
        "(x_train, y_train), (x_test, y_test) = mnist.load_data() # загружаем данные из базы mnist с разбивкой на train/test\n",
        "\n",
        "x_train = x_train.astype('float32') / 255. \n",
        "x_test  = x_test .astype('float32') / 255. \n",
        "x_train = np.reshape(x_train, (len(x_train), 28, 28, 1)) \n",
        "x_test  = np.reshape(x_test,  (len(x_test),  28, 28, 1)) \n",
        "\n",
        "y_train_categorical = to_categorical(y_train, 10).astype(np.float32) \n",
        "y_test_categorical  = to_categorical(y_test, 10).astype(np.float32)\n",
        "num_classes = y_test_categorical.shape[1] # задаем количество классов\n"
      ],
      "execution_count": 73,
      "outputs": []
    },
    {
      "cell_type": "markdown",
      "metadata": {
        "id": "shRf5ToYDswb"
      },
      "source": [
        "##Сделайте более мощный CVAE, обучите больше эпох до более низкого уровня ошибки и сравните изображения, которые получаются в итоге. Коррелирует ли уровень ошибки с качеством изображений?"
      ]
    },
    {
      "cell_type": "code",
      "metadata": {
        "colab": {
          "base_uri": "https://localhost:8080/",
          "height": 811
        },
        "id": "BONj0FJ_jDGv",
        "outputId": "1bb90d67-0b9d-48a4-dbfb-8c75cf506a40"
      },
      "source": [
        "cvae=MyCvae((28,28,1), 2, num_classes, 0.5)\n",
        "cvae.compile(optimizer=Adam(), run_eagerly=True) # run_eagerly - для запуска своего пересчета градиента\n",
        "res=cvae.fit([x_train, y_train_categorical], epochs=10, batch_size=128)\n",
        "x_pred=cvae.predict([x_test, y_test_categorical])\n",
        "plotImages(x_test, x_pred, 'Сравнение результатов обучения на 10 эпохах, размерность латентного слоя = 2', shape=(28,28))"
      ],
      "execution_count": 91,
      "outputs": [
        {
          "output_type": "stream",
          "text": [
            "Epoch 1/10\n",
            "469/469 [==============================] - 14s 30ms/step - total_loss: 85.0193 - reconstruction_loss: 168.8944 - kl_loss: 1.1440\n",
            "Epoch 2/10\n",
            "469/469 [==============================] - 14s 30ms/step - total_loss: 66.2945 - reconstruction_loss: 131.1289 - kl_loss: 1.4602\n",
            "Epoch 3/10\n",
            "469/469 [==============================] - 14s 30ms/step - total_loss: 64.6891 - reconstruction_loss: 127.8815 - kl_loss: 1.4967\n",
            "Epoch 4/10\n",
            "469/469 [==============================] - 14s 30ms/step - total_loss: 63.9480 - reconstruction_loss: 126.3898 - kl_loss: 1.5062\n",
            "Epoch 5/10\n",
            "469/469 [==============================] - 14s 30ms/step - total_loss: 63.5140 - reconstruction_loss: 125.5117 - kl_loss: 1.5163\n",
            "Epoch 6/10\n",
            "469/469 [==============================] - 14s 30ms/step - total_loss: 63.2258 - reconstruction_loss: 124.9280 - kl_loss: 1.5235\n",
            "Epoch 7/10\n",
            "469/469 [==============================] - 14s 30ms/step - total_loss: 62.9842 - reconstruction_loss: 124.4339 - kl_loss: 1.5347\n",
            "Epoch 8/10\n",
            "469/469 [==============================] - 14s 30ms/step - total_loss: 62.7750 - reconstruction_loss: 124.0142 - kl_loss: 1.5358\n",
            "Epoch 9/10\n",
            "469/469 [==============================] - 14s 30ms/step - total_loss: 62.5727 - reconstruction_loss: 123.6085 - kl_loss: 1.5368\n",
            "Epoch 10/10\n",
            "469/469 [==============================] - 14s 31ms/step - total_loss: 62.4385 - reconstruction_loss: 123.3254 - kl_loss: 1.5516\n"
          ],
          "name": "stdout"
        },
        {
          "output_type": "display_data",
          "data": {
            "image/png": "[encoded data removed]",
            "text/plain": [
              "<Figure size 1008x504 with 10 Axes>"
            ]
          },
          "metadata": {
            "tags": [],
            "needs_background": "light"
          }
        }
      ]
    },
    {
      "cell_type": "markdown",
      "metadata": {
        "id": "DGCu64NADvxi"
      },
      "source": [
        "## Дообучим модель"
      ]
    },
    {
      "cell_type": "code",
      "metadata": {
        "colab": {
          "base_uri": "https://localhost:8080/",
          "height": 761
        },
        "id": "GRzyA-tOBOVZ",
        "outputId": "89a94a9d-305d-48b6-ecdc-cd9cf62efaa6"
      },
      "source": [
        "#Дообучим модель\n",
        "res=cvae.fit([x_train, y_train_categorical], epochs=10, batch_size=128)\n",
        "x_pred=cvae.predict([x_test, y_test_categorical])\n",
        "plotImages(x_test, x_pred, 'Сравнение результатов ДООБУЧЕНИЯ еще на 10 эпохах, размерность латентного слоя = 2', shape=(28,28))"
      ],
      "execution_count": 93,
      "outputs": [
        {
          "output_type": "stream",
          "text": [
            "Epoch 1/10\n",
            "469/469 [==============================] - 14s 31ms/step - total_loss: 62.2921 - reconstruction_loss: 123.0312 - kl_loss: 1.5530\n",
            "Epoch 2/10\n",
            "469/469 [==============================] - 14s 31ms/step - total_loss: 62.1731 - reconstruction_loss: 122.7895 - kl_loss: 1.5567\n",
            "Epoch 3/10\n",
            "469/469 [==============================] - 14s 31ms/step - total_loss: 62.0291 - reconstruction_loss: 122.4922 - kl_loss: 1.5660\n",
            "Epoch 4/10\n",
            "469/469 [==============================] - 14s 30ms/step - total_loss: 61.9000 - reconstruction_loss: 122.2276 - kl_loss: 1.5724\n",
            "Epoch 5/10\n",
            "469/469 [==============================] - 14s 30ms/step - total_loss: 61.7619 - reconstruction_loss: 121.9447 - kl_loss: 1.5789\n",
            "Epoch 6/10\n",
            "469/469 [==============================] - 14s 30ms/step - total_loss: 61.6367 - reconstruction_loss: 121.6877 - kl_loss: 1.5858\n",
            "Epoch 7/10\n",
            "469/469 [==============================] - 16s 33ms/step - total_loss: 61.5038 - reconstruction_loss: 121.4154 - kl_loss: 1.5921\n",
            "Epoch 8/10\n",
            "469/469 [==============================] - 15s 33ms/step - total_loss: 61.3678 - reconstruction_loss: 121.1390 - kl_loss: 1.5967\n",
            "Epoch 9/10\n",
            "469/469 [==============================] - 16s 33ms/step - total_loss: 61.2331 - reconstruction_loss: 120.8576 - kl_loss: 1.6085\n",
            "Epoch 10/10\n",
            "469/469 [==============================] - 16s 33ms/step - total_loss: 61.1205 - reconstruction_loss: 120.6228 - kl_loss: 1.6182\n"
          ],
          "name": "stdout"
        },
        {
          "output_type": "display_data",
          "data": {
            "image/png": "[encoded data removed]",
            "text/plain": [
              "<Figure size 1008x504 with 10 Axes>"
            ]
          },
          "metadata": {
            "tags": [],
            "needs_background": "light"
          }
        }
      ]
    },
    {
      "cell_type": "markdown",
      "metadata": {
        "id": "0m4wU-opD0r6"
      },
      "source": [
        "##После дообучения модели качество получаемых изображений заметно улучшилось.<br>Теперь посмотрим на вариант с размерностью скрытого пространства = **10**"
      ]
    },
    {
      "cell_type": "code",
      "metadata": {
        "colab": {
          "base_uri": "https://localhost:8080/",
          "height": 761
        },
        "id": "xEr9wnoghW1l",
        "outputId": "a545d43a-ad1c-473e-acc2-266e89f562c1"
      },
      "source": [
        "# Вариант с размерностью скрытого пространства = 10\n",
        "cvae=MyCvae((28,28,1), 10, num_classes, 0.5)\n",
        "cvae.compile(optimizer=Adam(), run_eagerly=True) # run_eagerly - для запуска своего пересчета градиента\n",
        "res=cvae.fit([x_train, y_train_categorical], epochs=10, batch_size=128)\n",
        "x_pred=cvae.predict([x_test, y_test_categorical])\n",
        "plotImages(x_test, x_pred, 'Сравнение результатов обучения на 10 эпохах, размерность латентного слоя = 10', shape=(28,28))"
      ],
      "execution_count": 94,
      "outputs": [
        {
          "output_type": "stream",
          "text": [
            "Epoch 1/10\n",
            "469/469 [==============================] - 16s 33ms/step - total_loss: 78.5374 - reconstruction_loss: 155.3394 - kl_loss: 1.7350\n",
            "Epoch 2/10\n",
            "469/469 [==============================] - 15s 33ms/step - total_loss: 50.5979 - reconstruction_loss: 99.0809 - kl_loss: 2.1148\n",
            "Epoch 3/10\n",
            "469/469 [==============================] - 16s 34ms/step - total_loss: 45.3161 - reconstruction_loss: 88.5451 - kl_loss: 2.0871\n",
            "Epoch 4/10\n",
            "469/469 [==============================] - 16s 33ms/step - total_loss: 43.0259 - reconstruction_loss: 84.0578 - kl_loss: 1.9940\n",
            "Epoch 5/10\n",
            "469/469 [==============================] - 15s 33ms/step - total_loss: 41.7042 - reconstruction_loss: 81.4698 - kl_loss: 1.9386\n",
            "Epoch 6/10\n",
            "469/469 [==============================] - 16s 33ms/step - total_loss: 40.8352 - reconstruction_loss: 79.7625 - kl_loss: 1.9079\n",
            "Epoch 7/10\n",
            "469/469 [==============================] - 15s 33ms/step - total_loss: 40.1883 - reconstruction_loss: 78.4812 - kl_loss: 1.8953\n",
            "Epoch 8/10\n",
            "469/469 [==============================] - 16s 33ms/step - total_loss: 39.6948 - reconstruction_loss: 77.5075 - kl_loss: 1.8821\n",
            "Epoch 9/10\n",
            "469/469 [==============================] - 15s 33ms/step - total_loss: 39.2665 - reconstruction_loss: 76.6582 - kl_loss: 1.8749\n",
            "Epoch 10/10\n",
            "469/469 [==============================] - 16s 33ms/step - total_loss: 38.9240 - reconstruction_loss: 75.9784 - kl_loss: 1.8695\n"
          ],
          "name": "stdout"
        },
        {
          "output_type": "display_data",
          "data": {
            "image/png": "[encoded data removed]",
            "text/plain": [
              "<Figure size 1008x504 with 10 Axes>"
            ]
          },
          "metadata": {
            "tags": [],
            "needs_background": "light"
          }
        }
      ]
    },
    {
      "cell_type": "markdown",
      "metadata": {
        "id": "mv7vdrm6Eur7"
      },
      "source": [
        "# Подайте 5 раз в decoder CVAE один и тот же случайный вектор и любой label от 0 до 9 на выбор. Посмотрите, что сгенерирует CVAE."
      ]
    },
    {
      "cell_type": "code",
      "metadata": {
        "colab": {
          "base_uri": "https://localhost:8080/",
          "height": 307
        },
        "id": "J0jRehPr7Ihq",
        "outputId": "8186a7f2-e136-41e0-d548-04a49b37d094"
      },
      "source": [
        "x_rand_vector=np.random.sample((1, 10, 1))\n",
        "plt.figure(figsize=(20, 7)) # указываем размеры фигуры\n",
        "for i in range(10):\n",
        "  y_i=to_categorical(i, 10).astype(np.float32)\n",
        "  y_i=np.reshape(y_i,(1,10,))\n",
        "  x_rand_predict=(1-cvae.decoder([x_t, y_t]).numpy())*255\n",
        "  ax = plt.subplot(1, 10, i + 1) # выведем область рисования Axes\n",
        "  plt.imshow(x_rand_predict.reshape(28,28)) # отрисуем правильные картинки в размере 112*80      \n",
        "  plt.gray() # выведем в черно-белом цвете\n",
        "  ax.get_xaxis().set_visible(False) # скрываем вывод координатной оси x\n",
        "  ax.get_yaxis().set_visible(False) # скрываем вывод координатной оси y\n",
        "  ax.set_title(str(i))\n",
        "plt.suptitle('Результат предсказания случайного вектора с различными классами', y=0.95)\n",
        "plt.show()  "
      ],
      "execution_count": 95,
      "outputs": [
        {
          "output_type": "display_data",
          "data": {
            "image/png": "[encoded data removed]",
            "text/plain": [
              "<Figure size 1440x504 with 10 Axes>"
            ]
          },
          "metadata": {
            "tags": [],
            "needs_background": "light"
          }
        }
      ]
    }
  ]
}